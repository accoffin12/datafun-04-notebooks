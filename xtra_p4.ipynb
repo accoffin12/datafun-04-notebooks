{
 "cells": [
  {
   "cell_type": "markdown",
   "id": "033e1896",
   "metadata": {},
   "source": [
    "Alexandra Coffin\n",
    "2023 Feb 6\n",
    "Data Analytics Fundementals\n",
    "Dr. Case\n",
    "xtra_P4"
   ]
  },
  {
   "cell_type": "markdown",
   "id": "3ab0925a",
   "metadata": {},
   "source": [
    "# Optional Task 5 (Bonus).\n",
    "Raw data is rarely ready for use.\n",
    "Data preparation can be about 75% (or more) of our work.\n",
    "Work through Ch 8.13 to get an idea of wrangling (cleaning & transforming) data.\n",
    "On your machine, in your repo, create an additional notebook named xtra_p4.ipynb.\n",
    "(1) Start by creating the list of contacts in \"Reformatting your Data\" on page 310.\n",
    "(2) Create a DataFrame. \n",
    "(3) The phone numbers are not formatted.\n",
    "(4) Follow the text to create a function that uses regular expressions (usually abbreviated regex or re) to create a function to get a formatted version of the unformatted phone number. \n",
    "(5) Use map() and your function to improve the DataFrame \n",
    "(6) Verify phone numbers now appear with two dashes (e.g., 555-555-5555). \n",
    "(7) Prepare your notebook with a nice header (include a title, your name, and date)\n",
    "(8) Clearly label your steps and result. \n",
    "(9) Execute the entire notebook, export it to xtra_p4.html.\n",
    "(10) Commit and push both files into your GitHub repo. "
   ]
  },
  {
   "cell_type": "markdown",
   "id": "d6658e97",
   "metadata": {},
   "source": [
    "#### Pip Installation:\n",
    "As there where issues with the Pandas PATH I install pandas at the top of the code to ensure it's brought in correctly and usable."
   ]
  },
  {
   "cell_type": "code",
   "execution_count": 1,
   "id": "3f28158c",
   "metadata": {},
   "outputs": [
    {
     "name": "stdout",
     "output_type": "stream",
     "text": [
      "Requirement already satisfied: pandas in c:\\users\\tower\\anaconda3\\lib\\site-packages (1.4.4)\n",
      "Requirement already satisfied: python-dateutil>=2.8.1 in c:\\users\\tower\\anaconda3\\lib\\site-packages (from pandas) (2.8.2)\n",
      "Requirement already satisfied: numpy>=1.18.5 in c:\\users\\tower\\anaconda3\\lib\\site-packages (from pandas) (1.21.5)\n",
      "Requirement already satisfied: pytz>=2020.1 in c:\\users\\tower\\anaconda3\\lib\\site-packages (from pandas) (2022.1)\n",
      "Requirement already satisfied: six>=1.5 in c:\\users\\tower\\anaconda3\\lib\\site-packages (from python-dateutil>=2.8.1->pandas) (1.16.0)\n"
     ]
    }
   ],
   "source": [
    "!pip install pandas"
   ]
  },
  {
   "cell_type": "code",
   "execution_count": 2,
   "id": "e2d8be07",
   "metadata": {},
   "outputs": [],
   "source": [
    "import pandas as pd"
   ]
  },
  {
   "cell_type": "code",
   "execution_count": 3,
   "id": "b3dbee55",
   "metadata": {},
   "outputs": [],
   "source": [
    "import re"
   ]
  },
  {
   "cell_type": "markdown",
   "id": "d14b7581",
   "metadata": {},
   "source": [
    "## Creating a List and DataFrame of Contacts"
   ]
  },
  {
   "cell_type": "code",
   "execution_count": 4,
   "id": "92a4aa96",
   "metadata": {},
   "outputs": [],
   "source": [
    "contacts = [['Mike Green', 'dmol@deitel.com', '5555555678'], ['Sue Brown', 'demo2@deitel.com', '5555551234']]"
   ]
  },
  {
   "cell_type": "code",
   "execution_count": 5,
   "id": "1b72f88d",
   "metadata": {
    "scrolled": true
   },
   "outputs": [],
   "source": [
    "contactsdf = pd.DataFrame(contacts, columns=['Name', 'Email', 'Phone'])"
   ]
  },
  {
   "cell_type": "code",
   "execution_count": 6,
   "id": "1459614d",
   "metadata": {
    "scrolled": false
   },
   "outputs": [
    {
     "data": {
      "text/html": [
       "<div>\n",
       "<style scoped>\n",
       "    .dataframe tbody tr th:only-of-type {\n",
       "        vertical-align: middle;\n",
       "    }\n",
       "\n",
       "    .dataframe tbody tr th {\n",
       "        vertical-align: top;\n",
       "    }\n",
       "\n",
       "    .dataframe thead th {\n",
       "        text-align: right;\n",
       "    }\n",
       "</style>\n",
       "<table border=\"1\" class=\"dataframe\">\n",
       "  <thead>\n",
       "    <tr style=\"text-align: right;\">\n",
       "      <th></th>\n",
       "      <th>Name</th>\n",
       "      <th>Email</th>\n",
       "      <th>Phone</th>\n",
       "    </tr>\n",
       "  </thead>\n",
       "  <tbody>\n",
       "    <tr>\n",
       "      <th>0</th>\n",
       "      <td>Mike Green</td>\n",
       "      <td>dmol@deitel.com</td>\n",
       "      <td>5555555678</td>\n",
       "    </tr>\n",
       "    <tr>\n",
       "      <th>1</th>\n",
       "      <td>Sue Brown</td>\n",
       "      <td>demo2@deitel.com</td>\n",
       "      <td>5555551234</td>\n",
       "    </tr>\n",
       "  </tbody>\n",
       "</table>\n",
       "</div>"
      ],
      "text/plain": [
       "         Name             Email       Phone\n",
       "0  Mike Green   dmol@deitel.com  5555555678\n",
       "1   Sue Brown  demo2@deitel.com  5555551234"
      ]
     },
     "execution_count": 6,
     "metadata": {},
     "output_type": "execute_result"
    }
   ],
   "source": [
    "contactsdf"
   ]
  },
  {
   "cell_type": "markdown",
   "id": "c6d45688",
   "metadata": {},
   "source": [
    "## Formatting Phone Numbers"
   ]
  },
  {
   "cell_type": "code",
   "execution_count": 7,
   "id": "ca1af668",
   "metadata": {},
   "outputs": [],
   "source": [
    "contactsdf = pd.DataFrame(contacts,\n",
    "                         columns=['Name', 'Email', 'Phone'])"
   ]
  },
  {
   "cell_type": "markdown",
   "id": "90aaedce",
   "metadata": {},
   "source": [
    "Creating the formatted numbers involves using a combination of turples and definitions to create the familiar structure of numbers and emails."
   ]
  },
  {
   "cell_type": "markdown",
   "id": "34e733e2",
   "metadata": {},
   "source": [
    "### Creating the Definition:\n",
    "Creation of the structure that we will be mapping into the code. The expression in the block's first statment matches only 10 consecutive digits. If result is none, we return value modified. Series method map returns a new series containing the results of calling the fuction argument for each value in the column."
   ]
  },
  {
   "cell_type": "code",
   "execution_count": 8,
   "id": "3b8f9716",
   "metadata": {},
   "outputs": [],
   "source": [
    "def get_formatted_phone(value):\n",
    "    result = re.fullmatch(r'(\\d{3})(\\d{3})(\\d{4})', value)\n",
    "    return '-'.join(result.groups()) if result else value"
   ]
  },
  {
   "cell_type": "markdown",
   "id": "f981dd89",
   "metadata": {},
   "source": [
    "### Mapping to get the format as defined:\n",
    "Creating this map will allow for the creation of a function that recives a value and returns the mapped value. The Mapped value in this case being the desired structure for the data."
   ]
  },
  {
   "cell_type": "code",
   "execution_count": 9,
   "id": "e6894b7a",
   "metadata": {
    "scrolled": true
   },
   "outputs": [],
   "source": [
    "formatted_phone = contactsdf['Phone'].map(get_formatted_phone)"
   ]
  },
  {
   "cell_type": "code",
   "execution_count": 10,
   "id": "dbc248b9",
   "metadata": {
    "scrolled": true
   },
   "outputs": [
    {
     "data": {
      "text/plain": [
       "0    555-555-5678\n",
       "1    555-555-1234\n",
       "Name: Phone, dtype: object"
      ]
     },
     "execution_count": 10,
     "metadata": {},
     "output_type": "execute_result"
    }
   ],
   "source": [
    "formatted_phone"
   ]
  },
  {
   "cell_type": "markdown",
   "id": "88c2024f",
   "metadata": {},
   "source": [
    "### Creating the Formatted Contacts List:\n",
    "This step will produce the final version of the list with the phone numbers broken up with dashes and the email being structured in a recognized form."
   ]
  },
  {
   "cell_type": "code",
   "execution_count": 11,
   "id": "6d9debea",
   "metadata": {},
   "outputs": [],
   "source": [
    "contactsdf['Phone'] = formatted_phone"
   ]
  },
  {
   "cell_type": "code",
   "execution_count": 12,
   "id": "4780348e",
   "metadata": {},
   "outputs": [
    {
     "data": {
      "text/html": [
       "<div>\n",
       "<style scoped>\n",
       "    .dataframe tbody tr th:only-of-type {\n",
       "        vertical-align: middle;\n",
       "    }\n",
       "\n",
       "    .dataframe tbody tr th {\n",
       "        vertical-align: top;\n",
       "    }\n",
       "\n",
       "    .dataframe thead th {\n",
       "        text-align: right;\n",
       "    }\n",
       "</style>\n",
       "<table border=\"1\" class=\"dataframe\">\n",
       "  <thead>\n",
       "    <tr style=\"text-align: right;\">\n",
       "      <th></th>\n",
       "      <th>Name</th>\n",
       "      <th>Email</th>\n",
       "      <th>Phone</th>\n",
       "    </tr>\n",
       "  </thead>\n",
       "  <tbody>\n",
       "    <tr>\n",
       "      <th>0</th>\n",
       "      <td>Mike Green</td>\n",
       "      <td>dmol@deitel.com</td>\n",
       "      <td>555-555-5678</td>\n",
       "    </tr>\n",
       "    <tr>\n",
       "      <th>1</th>\n",
       "      <td>Sue Brown</td>\n",
       "      <td>demo2@deitel.com</td>\n",
       "      <td>555-555-1234</td>\n",
       "    </tr>\n",
       "  </tbody>\n",
       "</table>\n",
       "</div>"
      ],
      "text/plain": [
       "         Name             Email         Phone\n",
       "0  Mike Green   dmol@deitel.com  555-555-5678\n",
       "1   Sue Brown  demo2@deitel.com  555-555-1234"
      ]
     },
     "execution_count": 12,
     "metadata": {},
     "output_type": "execute_result"
    }
   ],
   "source": [
    "contactsdf"
   ]
  }
 ],
 "metadata": {
  "kernelspec": {
   "display_name": "Python 3 (ipykernel)",
   "language": "python",
   "name": "python3"
  },
  "language_info": {
   "codemirror_mode": {
    "name": "ipython",
    "version": 3
   },
   "file_extension": ".py",
   "mimetype": "text/x-python",
   "name": "python",
   "nbconvert_exporter": "python",
   "pygments_lexer": "ipython3",
   "version": "3.9.13"
  }
 },
 "nbformat": 4,
 "nbformat_minor": 5
}
