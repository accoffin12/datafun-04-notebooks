{
 "cells": [
  {
   "cell_type": "markdown",
   "id": "dcbab33b",
   "metadata": {},
   "source": [
    "Alexandra Coffin\n",
    "2023 Feb 6\n",
    "Data Analytics Fundementals\n",
    "Dr. Case\n",
    "acoffin_1.ipynb"
   ]
  },
  {
   "cell_type": "markdown",
   "id": "b1281cf1",
   "metadata": {},
   "source": [
    "# Excersise 7.14:"
   ]
  },
  {
   "cell_type": "markdown",
   "id": "0ea8e22b",
   "metadata": {},
   "source": [
    "## Creating the Panda Series\n",
    "(1) Follow the instructions in the \"Dictionary Initializers' subsection to modify your code to initialize grades with a dictionary (a set of key-value pairs instead) - we'll use the student name as the key  and their exam score as the value. \n",
    "\n",
    "(2) Get Eva's score by calling grades['Eva']\n",
    "\n",
    "(3) Get Wally's score using the easier dot notation: grades.Wally.  This is much more common and can be used as long as there are -NO spaces in the key text.  If there are spaces, you'll have to use the approach we used for Eva above - wrapping the key in single quotes.\n",
    "\n",
    "(4) Use the Series values attribute to display the array of values.\n",
    "\n",
    "(5) Complete the self-check on Page 266. "
   ]
  },
  {
   "cell_type": "code",
   "execution_count": 3,
   "id": "d048bb09",
   "metadata": {},
   "outputs": [
    {
     "name": "stdout",
     "output_type": "stream",
     "text": [
      "Requirement already satisfied: pandas in c:\\users\\tower\\anaconda3\\lib\\site-packages (1.4.4)\n",
      "Requirement already satisfied: pytz>=2020.1 in c:\\users\\tower\\anaconda3\\lib\\site-packages (from pandas) (2022.1)\n",
      "Requirement already satisfied: numpy>=1.18.5 in c:\\users\\tower\\anaconda3\\lib\\site-packages (from pandas) (1.21.5)\n",
      "Requirement already satisfied: python-dateutil>=2.8.1 in c:\\users\\tower\\anaconda3\\lib\\site-packages (from pandas) (2.8.2)\n",
      "Requirement already satisfied: six>=1.5 in c:\\users\\tower\\anaconda3\\lib\\site-packages (from python-dateutil>=2.8.1->pandas) (1.16.0)\n"
     ]
    }
   ],
   "source": [
    "%pip install pandas"
   ]
  },
  {
   "cell_type": "code",
   "execution_count": 4,
   "id": "2674532f",
   "metadata": {},
   "outputs": [],
   "source": [
    "import pandas as pd"
   ]
  },
  {
   "cell_type": "markdown",
   "id": "1b18fd69",
   "metadata": {},
   "source": [
    "# 1. Establishing pandas work\n",
    "Several versions of the same panda where created to demonstrate different methods of utilizing and constructing pandas. A series is an enhanced one-dimensional array. Arrays use only zero-based integer indices, custom indexing and even non-intiger indicies. A series may have missing data, and these will operations ignore missing data by default."
   ]
  },
  {
   "cell_type": "code",
   "execution_count": 5,
   "id": "48d31e96",
   "metadata": {},
   "outputs": [],
   "source": [
    "grades = pd.Series([87, 100, 94])"
   ]
  },
  {
   "cell_type": "code",
   "execution_count": 6,
   "id": "ea347df6",
   "metadata": {},
   "outputs": [
    {
     "data": {
      "text/plain": [
       "0     87\n",
       "1    100\n",
       "2     94\n",
       "dtype: int64"
      ]
     },
     "execution_count": 6,
     "metadata": {},
     "output_type": "execute_result"
    }
   ],
   "source": [
    "grades"
   ]
  },
  {
   "cell_type": "code",
   "execution_count": 7,
   "id": "34f340e3",
   "metadata": {},
   "outputs": [
    {
     "data": {
      "text/plain": [
       "0    98.6\n",
       "1    98.6\n",
       "2    98.6\n",
       "dtype: float64"
      ]
     },
     "execution_count": 7,
     "metadata": {},
     "output_type": "execute_result"
    }
   ],
   "source": [
    "pd.Series(98.6, range(3))"
   ]
  },
  {
   "cell_type": "markdown",
   "id": "a9247702",
   "metadata": {},
   "source": [
    "# 2. Exicuting Tasks:\n",
    "Utilizing count, mean, min, max, std, description"
   ]
  },
  {
   "cell_type": "code",
   "execution_count": 8,
   "id": "85ece211",
   "metadata": {},
   "outputs": [
    {
     "data": {
      "text/plain": [
       "3"
      ]
     },
     "execution_count": 8,
     "metadata": {},
     "output_type": "execute_result"
    }
   ],
   "source": [
    "grades.count()"
   ]
  },
  {
   "cell_type": "code",
   "execution_count": 9,
   "id": "69a8a964",
   "metadata": {},
   "outputs": [
    {
     "data": {
      "text/plain": [
       "93.66666666666667"
      ]
     },
     "execution_count": 9,
     "metadata": {},
     "output_type": "execute_result"
    }
   ],
   "source": [
    "grades.mean()"
   ]
  },
  {
   "cell_type": "code",
   "execution_count": 10,
   "id": "4d587d40",
   "metadata": {},
   "outputs": [
    {
     "data": {
      "text/plain": [
       "87"
      ]
     },
     "execution_count": 10,
     "metadata": {},
     "output_type": "execute_result"
    }
   ],
   "source": [
    "grades.min()"
   ]
  },
  {
   "cell_type": "code",
   "execution_count": 11,
   "id": "07c2ddde",
   "metadata": {},
   "outputs": [
    {
     "data": {
      "text/plain": [
       "100"
      ]
     },
     "execution_count": 11,
     "metadata": {},
     "output_type": "execute_result"
    }
   ],
   "source": [
    "grades.max()"
   ]
  },
  {
   "cell_type": "code",
   "execution_count": 12,
   "id": "6248842f",
   "metadata": {},
   "outputs": [
    {
     "data": {
      "text/plain": [
       "6.506407098647712"
      ]
     },
     "execution_count": 12,
     "metadata": {},
     "output_type": "execute_result"
    }
   ],
   "source": [
    "grades.std()"
   ]
  },
  {
   "cell_type": "markdown",
   "id": "c1e83a9f",
   "metadata": {},
   "source": [
    "## Describe:\n",
    "Describe will produce quartiles, it is important to remember that the median is equal to 50%, the 25% is the median of the first half of the sorted values and the 75% represents the median of the second half of the values. Quartiles and interquartile range are more useful in a larger database, but this method will work for smaller sets."
   ]
  },
  {
   "cell_type": "code",
   "execution_count": 13,
   "id": "252e4010",
   "metadata": {},
   "outputs": [
    {
     "data": {
      "text/plain": [
       "count      3.000000\n",
       "mean      93.666667\n",
       "std        6.506407\n",
       "min       87.000000\n",
       "25%       90.500000\n",
       "50%       94.000000\n",
       "75%       97.000000\n",
       "max      100.000000\n",
       "dtype: float64"
      ]
     },
     "execution_count": 13,
     "metadata": {},
     "output_type": "execute_result"
    }
   ],
   "source": [
    "grades.describe()"
   ]
  },
  {
   "cell_type": "markdown",
   "id": "04f6c7b6",
   "metadata": {},
   "source": [
    "# 3. Creating a Series with Custom Indices\n",
    "A method utilizing a key word argument, this allows us to use immutable types, including intigers not beginning at 0 and non consecutive integers."
   ]
  },
  {
   "cell_type": "code",
   "execution_count": 14,
   "id": "ff07df05",
   "metadata": {
    "scrolled": true
   },
   "outputs": [],
   "source": [
    "grades = pd.Series([87,100, 94], index=['Wally', 'Eva', 'Sam'])\n"
   ]
  },
  {
   "cell_type": "code",
   "execution_count": 15,
   "id": "55164d62",
   "metadata": {},
   "outputs": [
    {
     "data": {
      "text/plain": [
       "Wally     87\n",
       "Eva      100\n",
       "Sam       94\n",
       "dtype: int64"
      ]
     },
     "execution_count": 15,
     "metadata": {},
     "output_type": "execute_result"
    }
   ],
   "source": [
    "grades"
   ]
  },
  {
   "cell_type": "markdown",
   "id": "665de182",
   "metadata": {},
   "source": [
    "# 4. Dictionary Initializers:\n",
    "Key words becoming the series of indicies and values become the Series' element values.\n",
    "Demonstrating type, values and looking up an idividual's grades based on key word. "
   ]
  },
  {
   "cell_type": "code",
   "execution_count": 16,
   "id": "47d26781",
   "metadata": {},
   "outputs": [],
   "source": [
    "grades = pd.Series({'Wally': 87, 'Eva': 100, 'Sam': 94})"
   ]
  },
  {
   "cell_type": "code",
   "execution_count": 17,
   "id": "58c66308",
   "metadata": {},
   "outputs": [
    {
     "data": {
      "text/plain": [
       "Wally     87\n",
       "Eva      100\n",
       "Sam       94\n",
       "dtype: int64"
      ]
     },
     "execution_count": 17,
     "metadata": {},
     "output_type": "execute_result"
    }
   ],
   "source": [
    "grades"
   ]
  },
  {
   "cell_type": "code",
   "execution_count": 18,
   "id": "ac96c3ed",
   "metadata": {},
   "outputs": [
    {
     "data": {
      "text/plain": [
       "100"
      ]
     },
     "execution_count": 18,
     "metadata": {},
     "output_type": "execute_result"
    }
   ],
   "source": [
    "grades['Eva']"
   ]
  },
  {
   "cell_type": "code",
   "execution_count": 19,
   "id": "933305e1",
   "metadata": {},
   "outputs": [
    {
     "data": {
      "text/plain": [
       "87"
      ]
     },
     "execution_count": 19,
     "metadata": {},
     "output_type": "execute_result"
    }
   ],
   "source": [
    "grades.Wally"
   ]
  },
  {
   "cell_type": "code",
   "execution_count": 20,
   "id": "d4ebffde",
   "metadata": {},
   "outputs": [
    {
     "data": {
      "text/plain": [
       "dtype('int64')"
      ]
     },
     "execution_count": 20,
     "metadata": {},
     "output_type": "execute_result"
    }
   ],
   "source": [
    "grades.dtype"
   ]
  },
  {
   "cell_type": "code",
   "execution_count": 21,
   "id": "92ac979c",
   "metadata": {},
   "outputs": [
    {
     "data": {
      "text/plain": [
       "array([ 87, 100,  94], dtype=int64)"
      ]
     },
     "execution_count": 21,
     "metadata": {},
     "output_type": "execute_result"
    }
   ],
   "source": [
    "grades.values"
   ]
  },
  {
   "cell_type": "markdown",
   "id": "c52a686d",
   "metadata": {},
   "source": [
    "## 5. Self Chack: p. 266"
   ]
  },
  {
   "cell_type": "code",
   "execution_count": 22,
   "id": "eab14f00",
   "metadata": {},
   "outputs": [
    {
     "name": "stdout",
     "output_type": "stream",
     "text": [
      "Requirement already satisfied: numpy in c:\\users\\tower\\anaconda3\\lib\\site-packages (1.21.5)\n"
     ]
    }
   ],
   "source": [
    "%pip install numpy"
   ]
  },
  {
   "cell_type": "code",
   "execution_count": 23,
   "id": "8b4c1aca",
   "metadata": {},
   "outputs": [],
   "source": [
    "import numpy as np"
   ]
  },
  {
   "cell_type": "code",
   "execution_count": 24,
   "id": "e15ba09d",
   "metadata": {
    "scrolled": true
   },
   "outputs": [],
   "source": [
    "temps = np.random.randint(60, 101, 8)"
   ]
  },
  {
   "cell_type": "code",
   "execution_count": 25,
   "id": "8838fd89",
   "metadata": {},
   "outputs": [],
   "source": [
    "temperatures = pd.Series(temps)"
   ]
  },
  {
   "cell_type": "markdown",
   "id": "9cb3e451",
   "metadata": {},
   "source": [
    "### Converting array into Series called temperatures"
   ]
  },
  {
   "cell_type": "code",
   "execution_count": 26,
   "id": "6a9c26c7",
   "metadata": {},
   "outputs": [
    {
     "data": {
      "text/plain": [
       "0    76\n",
       "1    80\n",
       "2    71\n",
       "3    66\n",
       "4    89\n",
       "5    66\n",
       "6    99\n",
       "7    88\n",
       "dtype: int32"
      ]
     },
     "execution_count": 26,
     "metadata": {},
     "output_type": "execute_result"
    }
   ],
   "source": [
    "temperatures"
   ]
  },
  {
   "cell_type": "markdown",
   "id": "aed14e98",
   "metadata": {},
   "source": [
    "### Determining Lowest, Highest and Average Temperatures:"
   ]
  },
  {
   "cell_type": "code",
   "execution_count": 27,
   "id": "21d12d60",
   "metadata": {},
   "outputs": [
    {
     "data": {
      "text/plain": [
       "66"
      ]
     },
     "execution_count": 27,
     "metadata": {},
     "output_type": "execute_result"
    }
   ],
   "source": [
    "temperatures.min()"
   ]
  },
  {
   "cell_type": "code",
   "execution_count": 28,
   "id": "58c31c7e",
   "metadata": {},
   "outputs": [
    {
     "data": {
      "text/plain": [
       "99"
      ]
     },
     "execution_count": 28,
     "metadata": {},
     "output_type": "execute_result"
    }
   ],
   "source": [
    "temperatures.max()"
   ]
  },
  {
   "cell_type": "code",
   "execution_count": 29,
   "id": "bac4d584",
   "metadata": {},
   "outputs": [
    {
     "data": {
      "text/plain": [
       "79.375"
      ]
     },
     "execution_count": 29,
     "metadata": {},
     "output_type": "execute_result"
    }
   ],
   "source": [
    "temperatures.mean()"
   ]
  },
  {
   "cell_type": "markdown",
   "id": "f03bc06d",
   "metadata": {},
   "source": [
    "## Describe.method\n",
    "Using the describe method calculates basic descriptive statistics for the data, and returns it as a frame. This creates a quick summary, that allows for a rapid display of an array."
   ]
  },
  {
   "cell_type": "code",
   "execution_count": 30,
   "id": "911a5a62",
   "metadata": {},
   "outputs": [
    {
     "data": {
      "text/plain": [
       "count     8.000000\n",
       "mean     79.375000\n",
       "std      11.903631\n",
       "min      66.000000\n",
       "25%      69.750000\n",
       "50%      78.000000\n",
       "75%      88.250000\n",
       "max      99.000000\n",
       "dtype: float64"
      ]
     },
     "execution_count": 30,
     "metadata": {},
     "output_type": "execute_result"
    }
   ],
   "source": [
    "temperatures.describe()"
   ]
  }
 ],
 "metadata": {
  "kernelspec": {
   "display_name": "Python 3",
   "language": "python",
   "name": "python3"
  },
  "language_info": {
   "codemirror_mode": {
    "name": "ipython",
    "version": 3
   },
   "file_extension": ".py",
   "mimetype": "text/x-python",
   "name": "python",
   "nbconvert_exporter": "python",
   "pygments_lexer": "ipython3",
   "version": "3.11.1"
  },
  "vscode": {
   "interpreter": {
    "hash": "8efa02d946cf0096da1b3d61f9e611017bc8139885ae3cd83220fa51d11b1f2a"
   }
  }
 },
 "nbformat": 4,
 "nbformat_minor": 5
}
